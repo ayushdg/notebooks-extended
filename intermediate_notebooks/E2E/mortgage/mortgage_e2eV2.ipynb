{
 "cells": [
  {
   "cell_type": "markdown",
   "metadata": {},
   "source": [
    "# Mortgage Workflow\n",
    "\n",
    "## The Dataset\n",
    "The dataset used with this workflow is derived from [Fannie Mae’s Single-Family Loan Performance Data](http://www.fanniemae.com/portal/funding-the-market/data/loan-performance-data.html) with all rights reserved by Fannie Mae. This processed dataset is redistributed with permission and consent from Fannie Mae.\n",
    "\n",
    "To acquire this dataset, please visit [RAPIDS Datasets Homepage](https://docs.rapids.ai/datasets/mortgage-data)\n",
    "\n",
    "## Introduction\n",
    "The Mortgage workflow is composed of three core phases:\n",
    "\n",
    "1. ETL - Extract, Transform, Load\n",
    "2. Data Conversion\n",
    "3. ML - Training\n",
    "\n",
    "### ETL\n",
    "Data is \n",
    "1. Read in from storage\n",
    "2. Transformed to emphasize key features\n",
    "3. Loaded into volatile memory for conversion\n",
    "\n",
    "### Data Conversion\n",
    "Features are\n",
    "1. Broken into (labels, data) pairs\n",
    "2. Distributed across many workers\n",
    "3. Converted into compressed sparse row (CSR) matrix format for XGBoost\n",
    "\n",
    "### Machine Learning\n",
    "The CSR data is fed into a distributed training session with Dask-XGBoost"
   ]
  },
  {
   "cell_type": "code",
   "execution_count": 1,
   "metadata": {},
   "outputs": [],
   "source": [
    "import numpy as np\n",
    "import dask\n",
    "import dask_cudf\n",
    "from dask_cuda import LocalCUDACluster\n",
    "from dask.delayed import delayed\n",
    "from dask.distributed import Client, wait\n",
    "from collections import OrderedDict\n",
    "from glob import glob\n",
    "import os"
   ]
  },
  {
   "cell_type": "code",
   "execution_count": 2,
   "metadata": {},
   "outputs": [
    {
     "data": {
      "text/html": [
       "<table style=\"border: 2px solid white;\">\n",
       "<tr>\n",
       "<td style=\"vertical-align: top; border: 0px solid white\">\n",
       "<h3 style=\"text-align: left;\">Client</h3>\n",
       "<ul style=\"text-align: left; list-style: none; margin: 0; padding: 0;\">\n",
       "  <li><b>Scheduler: </b>tcp://10.136.7.103:42260</li>\n",
       "  <li><b>Dashboard: </b><a href='http://10.136.7.103:8787/status' target='_blank'>http://10.136.7.103:8787/status</a>\n",
       "</ul>\n",
       "</td>\n",
       "<td style=\"vertical-align: top; border: 0px solid white\">\n",
       "<h3 style=\"text-align: left;\">Cluster</h3>\n",
       "<ul style=\"text-align: left; list-style:none; margin: 0; padding: 0;\">\n",
       "  <li><b>Workers: </b>4</li>\n",
       "  <li><b>Cores: </b>4</li>\n",
       "  <li><b>Memory: </b>404.34 GB</li>\n",
       "</ul>\n",
       "</td>\n",
       "</tr>\n",
       "</table>"
      ],
      "text/plain": [
       "<Client: scheduler='tcp://10.136.7.103:42260' processes=4 cores=4>"
      ]
     },
     "execution_count": 2,
     "metadata": {},
     "output_type": "execute_result"
    }
   ],
   "source": [
    "#Create the cluster\n",
    "import subprocess\n",
    "\n",
    "cmd = \"hostname --all-ip-addresses\"\n",
    "process = subprocess.Popen(cmd.split(), stdout=subprocess.PIPE)\n",
    "output, error = process.communicate()\n",
    "IPADDR = str(output.decode()).split()[0]\n",
    "\n",
    "cluster = LocalCUDACluster(ip=IPADDR)\n",
    "client = Client(cluster)\n",
    "client"
   ]
  },
  {
   "cell_type": "code",
   "execution_count": 3,
   "metadata": {},
   "outputs": [],
   "source": [
    "import cudf\n",
    "#Specify Path to the files\n",
    "acq_data_path = \"/data/kratos/mortgage_1yr/acq/*\"\n",
    "perf_data_path = \"/data/kratos/mortgage_1yr/perf/*\"\n",
    "col_names_path = \"/data/kratos/mortgage_1yr/names.csv\"\n",
    "\n",
    "chunksize = \"500MB\" #Chunksize for reading the data"
   ]
  },
  {
   "cell_type": "code",
   "execution_count": 4,
   "metadata": {},
   "outputs": [],
   "source": [
    "# Loading the three files\n",
    "acq_df_cols = OrderedDict([\n",
    "        (\"loan_id\", \"int64\"),\n",
    "        (\"orig_channel\", \"category\"),\n",
    "        (\"seller_name\", \"str\"),\n",
    "        (\"orig_interest_rate\", \"float64\"),\n",
    "        (\"orig_upb\", \"int64\"),\n",
    "        (\"orig_loan_term\", \"int64\"),\n",
    "        (\"orig_date\", \"date\"),\n",
    "        (\"first_pay_date\", \"date\"),\n",
    "        (\"orig_ltv\", \"float64\"),\n",
    "        (\"orig_cltv\", \"float64\"),\n",
    "        (\"num_borrowers\", \"float64\"),\n",
    "        (\"dti\", \"float64\"),\n",
    "        (\"borrower_credit_score\", \"float64\"),\n",
    "        (\"first_home_buyer\", \"category\"),\n",
    "        (\"loan_purpose\", \"category\"),\n",
    "        (\"property_type\", \"category\"),\n",
    "        (\"num_units\", \"int64\"),\n",
    "        (\"occupancy_status\", \"category\"),\n",
    "        (\"property_state\", \"category\"),\n",
    "        (\"zip\", \"int64\"),\n",
    "        (\"mortgage_insurance_percent\", \"float64\"),\n",
    "        (\"product_type\", \"category\"),\n",
    "        (\"coborrow_credit_score\", \"float64\"),\n",
    "        (\"mortgage_insurance_type\", \"float64\"),\n",
    "        (\"relocation_mortgage_indicator\", \"category\")\n",
    "    ])\n",
    "    \n",
    "acq_df = dask_cudf.read_csv(acq_data_path, names=list(acq_df_cols.keys()), delimiter='|', dtype=list(acq_df_cols.values()), chunksize=chunksize)\n",
    "\n",
    "\n",
    "perf_df_cols = OrderedDict([\n",
    "    (\"loan_id\", \"int64\"),\n",
    "    (\"monthly_reporting_period\", \"date\"),\n",
    "    (\"servicer\", \"category\"),\n",
    "    (\"interest_rate\", \"float64\"),\n",
    "    (\"current_actual_upb\", \"float64\"),\n",
    "    (\"loan_age\", \"float64\"),\n",
    "    (\"remaining_months_to_legal_maturity\", \"float64\"),\n",
    "    (\"adj_remaining_months_to_maturity\", \"float64\"),\n",
    "    (\"maturity_date\", \"date\"),\n",
    "    (\"msa\", \"float64\"),\n",
    "    (\"current_loan_delinquency_status\", \"int32\"),\n",
    "    (\"mod_flag\", \"category\"),\n",
    "    (\"zero_balance_code\", \"category\"),\n",
    "    (\"zero_balance_effective_date\", \"date\"),\n",
    "    (\"last_paid_installment_date\", \"date\"),\n",
    "    (\"foreclosed_after\", \"date\"),\n",
    "    (\"disposition_date\", \"date\"),\n",
    "    (\"foreclosure_costs\", \"float64\"),\n",
    "    (\"prop_preservation_and_repair_costs\", \"float64\"),\n",
    "    (\"asset_recovery_costs\", \"float64\"),\n",
    "    (\"misc_holding_expenses\", \"float64\"),\n",
    "    (\"holding_taxes\", \"float64\"),\n",
    "    (\"net_sale_proceeds\", \"float64\"),\n",
    "    (\"credit_enhancement_proceeds\", \"float64\"),\n",
    "    (\"repurchase_make_whole_proceeds\", \"float64\"),\n",
    "    (\"other_foreclosure_proceeds\", \"float64\"),\n",
    "    (\"non_interest_bearing_upb\", \"float64\"),\n",
    "    (\"principal_forgiveness_upb\", \"float64\"),\n",
    "    (\"repurchase_make_whole_proceeds_flag\", \"category\"),\n",
    "    (\"foreclosure_principal_write_off_amount\", \"float64\"),\n",
    "    (\"servicing_activity_indicator\", \"category\")\n",
    "])\n",
    "perf_df = dask_cudf.read_csv(perf_data_path, names=list(perf_df_cols.keys()), delimiter='|', dtype=list(perf_df_cols.values()), chunksize=chunksize)\n",
    "\n",
    "\n",
    "names_df_cols = OrderedDict([\n",
    "        (\"seller_name\", \"str\"),\n",
    "        (\"new\", \"str\"),\n",
    "])\n",
    "names_df = dask_cudf.read_csv(\"file://\"+col_names_path, names=list(names_df_cols.keys()), delimiter='|', dtype=list(names_df_cols.values()),skiprows=1)"
   ]
  },
  {
   "cell_type": "markdown",
   "metadata": {},
   "source": [
    "Let us look at the seller_names from the acquisisiton df\n",
    "\n",
    "Same sellers sometimes have different names in the dataset:\n",
    "```\n",
    "JP MORGAN CHASE BANK, NA\n",
    "JPMORGAN CHASE BANK, NA\n",
    "JPMORGAN CHASE BANK, NATIONAL ASSOCIATION\n",
    "```\n",
    "To handle this we have a `names.csv` files that has mappings of seller_names to a common seller_name"
   ]
  },
  {
   "cell_type": "code",
   "execution_count": 5,
   "metadata": {},
   "outputs": [],
   "source": [
    "#TODO names.csv mapping to df"
   ]
  },
  {
   "cell_type": "markdown",
   "metadata": {},
   "source": [
    "Boolean feature indicating if a load has ever been delinquent over 30 days, 90 days and 180 days"
   ]
  },
  {
   "cell_type": "code",
   "execution_count": 6,
   "metadata": {},
   "outputs": [],
   "source": [
    "delinq_status_df = perf_df[['loan_id','current_loan_delinquency_status']].groupby(\"loan_id\").current_loan_delinquency_status.max().to_frame()\n",
    "delinq_status_df['delinq30'] = (delinq_status_df['current_loan_delinquency_status'] >= 1)\n",
    "delinq_status_df['delinq90'] = (delinq_status_df['current_loan_delinquency_status'] >= 3)\n",
    "delinq_status_df['delinq180'] = (delinq_status_df['current_loan_delinquency_status'] >= 6)"
   ]
  },
  {
   "cell_type": "markdown",
   "metadata": {},
   "source": [
    "Feature indicating first time when loan became delinquent over 30, 90 and 180 days"
   ]
  },
  {
   "cell_type": "code",
   "execution_count": 7,
   "metadata": {},
   "outputs": [],
   "source": [
    "temp = perf_df[['current_loan_delinquency_status',\n",
    "                'loan_id',\n",
    "                'monthly_reporting_period']].query(\"current_loan_delinquency_status >= 1\").groupby(\"loan_id\").monthly_reporting_period.min().to_frame()\n",
    "temp['delinquency_30'] = temp['monthly_reporting_period']\n",
    "temp = temp.map_partitions(cudf.DataFrame.drop,'monthly_reporting_period')\n",
    "temp = temp.map_partitions(cudf.DataFrame.reset_index)\n",
    "temp2 = perf_df[['current_loan_delinquency_status',\n",
    "                'loan_id',\n",
    "                'monthly_reporting_period']].query(\"current_loan_delinquency_status >= 3\").groupby(\"loan_id\").monthly_reporting_period.min().to_frame()\n",
    "temp2['delinquency_90'] = temp2['monthly_reporting_period']\n",
    "temp2 = temp2.map_partitions(cudf.DataFrame.drop,'monthly_reporting_period')\n",
    "temp2 = temp2.map_partitions(cudf.DataFrame.reset_index)\n",
    "temp3 = perf_df[['current_loan_delinquency_status',\n",
    "                'loan_id',\n",
    "                'monthly_reporting_period']].query(\"current_loan_delinquency_status >= 6\").groupby(\"loan_id\").monthly_reporting_period.min().to_frame()\n",
    "temp3['delinquency_180'] = temp3['monthly_reporting_period']\n",
    "temp3 = temp3.map_partitions(cudf.DataFrame.drop,'monthly_reporting_period')\n",
    "temp3 = temp3.map_partitions(cudf.DataFrame.reset_index)\n",
    "temp = temp.merge(temp2, on = \"loan_id\", how = \"left\")\n",
    "temp = temp.merge(temp3, on = \"loan_id\", how = \"left\")"
   ]
  },
  {
   "cell_type": "markdown",
   "metadata": {},
   "source": [
    "Over a rolling_window of width 1 year and stride one month find a feature which has 3 values 0,1,2 and is the sum of the booleans is the loan delinquent over 30 days in the 1 year period and is the current upb 0"
   ]
  },
  {
   "cell_type": "code",
   "execution_count": null,
   "metadata": {},
   "outputs": [],
   "source": [
    "perf_df.head()"
   ]
  },
  {
   "cell_type": "code",
   "execution_count": null,
   "metadata": {},
   "outputs": [],
   "source": [
    "perf_df_tt = perf_df[['loan_id','loan_age']].rolling(2).mean()\n",
    "perf_df_tt.head()"
   ]
  },
  {
   "cell_type": "markdown",
   "metadata": {},
   "source": [
    "#### Approach 1"
   ]
  },
  {
   "cell_type": "code",
   "execution_count": 8,
   "metadata": {},
   "outputs": [],
   "source": [
    "delinq_status_df2 = delinq_status_df.map_partitions(cudf.DataFrame.reset_index)\n",
    "delinq_status_df2 = delinq_status_df2.map_partitions(cudf.DataFrame.drop,\"current_loan_delinquency_status\")\n",
    "perf_df_1 = perf_df.merge(delinq_status_df2, on = \"loan_id\",how=\"left\")"
   ]
  },
  {
   "cell_type": "code",
   "execution_count": 9,
   "metadata": {},
   "outputs": [],
   "source": [
    "perf_df_1 = perf_df_1.merge(temp, on = \"loan_id\", how = \"left\")"
   ]
  },
  {
   "cell_type": "code",
   "execution_count": 11,
   "metadata": {},
   "outputs": [
    {
     "name": "stdout",
     "output_type": "stream",
     "text": [
      "CPU times: user 476 ms, sys: 28 ms, total: 504 ms\n",
      "Wall time: 3.01 s\n"
     ]
    },
    {
     "data": {
      "text/plain": [
       "36190382"
      ]
     },
     "execution_count": 11,
     "metadata": {},
     "output_type": "execute_result"
    }
   ],
   "source": [
    "%time len(perf_df_1)"
   ]
  },
  {
   "cell_type": "markdown",
   "metadata": {},
   "source": [
    "#### Approach 2"
   ]
  },
  {
   "cell_type": "code",
   "execution_count": 12,
   "metadata": {},
   "outputs": [],
   "source": [
    "delinq_status_df3 = delinq_status_df.map_partitions(cudf.DataFrame.reset_index)\n",
    "delinq_status_df3 = delinq_status_df3.map_partitions(cudf.DataFrame.drop,\"current_loan_delinquency_status\")\n",
    "delinq_status_df3 = delinq_status_df3.merge(temp, on = \"loan_id\", how = \"left\")"
   ]
  },
  {
   "cell_type": "code",
   "execution_count": 13,
   "metadata": {},
   "outputs": [],
   "source": [
    "perf_df_2 = perf_df.merge(delinq_status_df3, on = \"loan_id\", how = \"left\")"
   ]
  },
  {
   "cell_type": "code",
   "execution_count": 14,
   "metadata": {},
   "outputs": [
    {
     "name": "stdout",
     "output_type": "stream",
     "text": [
      "CPU times: user 508 ms, sys: 40 ms, total: 548 ms\n",
      "Wall time: 3.11 s\n"
     ]
    },
    {
     "data": {
      "text/plain": [
       "36190382"
      ]
     },
     "execution_count": 14,
     "metadata": {},
     "output_type": "execute_result"
    }
   ],
   "source": [
    "%time len(perf_df_2)"
   ]
  },
  {
   "cell_type": "markdown",
   "metadata": {},
   "source": [
    "Create rolling feature"
   ]
  },
  {
   "cell_type": "code",
   "execution_count": null,
   "metadata": {},
   "outputs": [],
   "source": [
    "#Set Index approach\n",
    "perf_df = perf_df.set_index(\"loan_id\")"
   ]
  }
 ],
 "metadata": {
  "kernelspec": {
   "display_name": "Python 3",
   "language": "python",
   "name": "python3"
  },
  "language_info": {
   "codemirror_mode": {
    "name": "ipython",
    "version": 3
   },
   "file_extension": ".py",
   "mimetype": "text/x-python",
   "name": "python",
   "nbconvert_exporter": "python",
   "pygments_lexer": "ipython3",
   "version": "3.7.3"
  }
 },
 "nbformat": 4,
 "nbformat_minor": 4
}
